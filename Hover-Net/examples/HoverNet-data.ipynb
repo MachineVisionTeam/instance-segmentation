{
 "cells": [
  {
   "cell_type": "code",
   "execution_count": 1,
   "metadata": {},
   "outputs": [],
   "source": [
    "import os\n",
    "import numpy as np\n",
    "import matplotlib.pyplot as plt\n",
    "import cv2\n",
    "import seaborn\n",
    "import cv2\n",
    "from PIL import Image\n",
    "from tqdm import tqdm"
   ]
  },
  {
   "cell_type": "code",
   "execution_count": 2,
   "metadata": {},
   "outputs": [
    {
     "name": "stdout",
     "output_type": "stream",
     "text": [
      "(2656, 256, 256, 3)\n",
      "(2656, 256, 256, 6)\n"
     ]
    }
   ],
   "source": [
    "images = np.load('/mnt/storage1/Hover-Net/Fold 1/images/fold1/images.npy',allow_pickle=True)\n",
    "masks = np.load('/mnt/storage1/Hover-Net/Fold 1/masks/fold1/masks.npy',allow_pickle=True)\n",
    "\n",
    "print(images.shape)\n",
    "print(masks.shape)"
   ]
  },
  {
   "cell_type": "code",
   "execution_count": 3,
   "metadata": {},
   "outputs": [],
   "source": [
    "out_dir = \"./\"\n",
    "\n",
    "# A helper function to map 2d numpy array\n",
    "def flat_for(a, f):\n",
    "    a = a.reshape(-1)\n",
    "    for i, v in enumerate(a):\n",
    "        a[i] = f(v)\n",
    "\n",
    "\n",
    "# A helper function to unique PanNuke instances indexes to [0..N] range where 0 is background\n",
    "def map_inst(inst):\n",
    "    seg_indexes = np.unique(inst)\n",
    "    new_indexes = np.array(range(0, len(seg_indexes)))\n",
    "    dict = {}\n",
    "    for seg_index, new_index in zip(seg_indexes, new_indexes):\n",
    "        dict[seg_index] = new_index\n",
    "\n",
    "    flat_for(inst, lambda x: dict[x])\n",
    "\n",
    "\n",
    "# A helper function to transform PanNuke format to HoverNet data format\n",
    "def transform(images, masks, path, out_dir, start, finish):\n",
    "\n",
    "    fold_path = out_dir+path\n",
    "    try:\n",
    "        os.mkdir(fold_path)\n",
    "    except FileExistsError:\n",
    "        pass\n",
    "    \n",
    "    start = int(images.shape[0]*start)\n",
    "    finish = int(images.shape[0]*finish)\n",
    "    \n",
    "    for i in tqdm(range(start, finish)):\n",
    "        np_file = np.zeros((256,256,5), dtype='int16')\n",
    "\n",
    "        # add rgb channels to array\n",
    "        img_int = np.array(images[i],np.int16)\n",
    "        for j in range(3):\n",
    "            np_file[:,:,j] = img_int[:,:,j]\n",
    "\n",
    "        # convert inst and type format for mask\n",
    "        msk = masks[i]\n",
    "\n",
    "        inst = np.zeros((256,256))\n",
    "        for j in range(5):\n",
    "            #copy value from new array if value is not equal 0\n",
    "            inst = np.where(msk[:,:,j] != 0, msk[:,:,j], inst)\n",
    "        map_inst(inst)\n",
    "\n",
    "        types = np.zeros((256,256))\n",
    "        for j in range(5):\n",
    "            # write type index if mask is not equal 0 and value is still 0\n",
    "            types = np.where((msk[:,:,j] != 0) & (types == 0), j+1, types)\n",
    "\n",
    "        # add padded inst and types to array\n",
    "        np_file[:,:,3] = inst\n",
    "        np_file[:,:,4] = types\n",
    "\n",
    "        np.save(fold_path + '/' + '%d.npy' % (i), np_file)"
   ]
  },
  {
   "cell_type": "code",
   "execution_count": 4,
   "metadata": {},
   "outputs": [
    {
     "name": "stderr",
     "output_type": "stream",
     "text": [
      "100%|██████████| 2124/2124 [00:42<00:00, 49.47it/s]\n"
     ]
    }
   ],
   "source": [
    "transform(images, masks, 'train', out_dir=out_dir, start=0, finish=0.8)"
   ]
  },
  {
   "cell_type": "code",
   "execution_count": 5,
   "metadata": {},
   "outputs": [
    {
     "name": "stderr",
     "output_type": "stream",
     "text": [
      "100%|██████████| 532/532 [00:10<00:00, 49.91it/s]\n"
     ]
    }
   ],
   "source": [
    "transform(images, masks, 'val', out_dir=out_dir, start=0.8, finish=1)"
   ]
  }
 ],
 "metadata": {
  "kernelspec": {
   "display_name": "project",
   "language": "python",
   "name": "python3"
  },
  "language_info": {
   "codemirror_mode": {
    "name": "ipython",
    "version": 3
   },
   "file_extension": ".py",
   "mimetype": "text/x-python",
   "name": "python",
   "nbconvert_exporter": "python",
   "pygments_lexer": "ipython3",
   "version": "3.7.12"
  }
 },
 "nbformat": 4,
 "nbformat_minor": 2
}
